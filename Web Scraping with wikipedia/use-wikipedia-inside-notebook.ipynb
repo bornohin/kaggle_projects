{
 "cells": [
  {
   "cell_type": "markdown",
   "metadata": {
    "papermill": {
     "duration": 0.017903,
     "end_time": "2020-10-19T23:27:05.424772",
     "exception": false,
     "start_time": "2020-10-19T23:27:05.406869",
     "status": "completed"
    },
    "tags": []
   },
   "source": [
    "### **A snippet on how to use wikipedia resources on Jupyter Notebook**"
   ]
  },
  {
   "cell_type": "code",
   "execution_count": 1,
   "metadata": {
    "_cell_guid": "b1076dfc-b9ad-4769-8c92-a6c4dae69d19",
    "_uuid": "8f2839f25d086af736a60e9eeb907d3b93b6e0e5",
    "execution": {
     "iopub.execute_input": "2020-10-19T23:27:05.467582Z",
     "iopub.status.busy": "2020-10-19T23:27:05.466658Z",
     "iopub.status.idle": "2020-10-19T23:27:18.038510Z",
     "shell.execute_reply": "2020-10-19T23:27:18.037590Z"
    },
    "papermill": {
     "duration": 12.596959,
     "end_time": "2020-10-19T23:27:18.038683",
     "exception": false,
     "start_time": "2020-10-19T23:27:05.441724",
     "status": "completed"
    },
    "tags": []
   },
   "outputs": [
    {
     "name": "stdout",
     "output_type": "stream",
     "text": [
      "Collecting wikipedia\r\n",
      "  Downloading wikipedia-1.4.0.tar.gz (27 kB)\r\n",
      "Requirement already satisfied: beautifulsoup4 in /opt/conda/lib/python3.7/site-packages (from wikipedia) (4.9.0)\r\n",
      "Requirement already satisfied: requests<3.0.0,>=2.0.0 in /opt/conda/lib/python3.7/site-packages (from wikipedia) (2.23.0)\r\n",
      "Requirement already satisfied: soupsieve>1.2 in /opt/conda/lib/python3.7/site-packages (from beautifulsoup4->wikipedia) (1.9.4)\r\n",
      "Requirement already satisfied: urllib3!=1.25.0,!=1.25.1,<1.26,>=1.21.1 in /opt/conda/lib/python3.7/site-packages (from requests<3.0.0,>=2.0.0->wikipedia) (1.24.3)\r\n",
      "Requirement already satisfied: chardet<4,>=3.0.2 in /opt/conda/lib/python3.7/site-packages (from requests<3.0.0,>=2.0.0->wikipedia) (3.0.4)\r\n",
      "Requirement already satisfied: idna<3,>=2.5 in /opt/conda/lib/python3.7/site-packages (from requests<3.0.0,>=2.0.0->wikipedia) (2.9)\r\n",
      "Requirement already satisfied: certifi>=2017.4.17 in /opt/conda/lib/python3.7/site-packages (from requests<3.0.0,>=2.0.0->wikipedia) (2020.6.20)\r\n",
      "Building wheels for collected packages: wikipedia\r\n",
      "  Building wheel for wikipedia (setup.py) ... \u001b[?25l-\b \b\\\b \bdone\r\n",
      "\u001b[?25h  Created wheel for wikipedia: filename=wikipedia-1.4.0-py3-none-any.whl size=11685 sha256=ab8681b49fcf5a7104ec379745d3c079022ee46ca1c85d525b2b6c8668dd9f03\r\n",
      "  Stored in directory: /root/.cache/pip/wheels/15/93/6d/5b2c68b8a64c7a7a04947b4ed6d89fb557dcc6bc27d1d7f3ba\r\n",
      "Successfully built wikipedia\r\n",
      "Installing collected packages: wikipedia\r\n",
      "Successfully installed wikipedia-1.4.0\r\n",
      "\u001b[33mWARNING: You are using pip version 20.2.3; however, version 20.2.4 is available.\r\n",
      "You should consider upgrading via the '/opt/conda/bin/python3.7 -m pip install --upgrade pip' command.\u001b[0m\r\n",
      "\n",
      "\n",
      "\n",
      "Wikipedia is ready for use.\n"
     ]
    }
   ],
   "source": [
    "# First thing first. Lets install wikipedia module and import it.\n",
    "!pip install wikipedia\n",
    "import wikipedia\n",
    "print(\"\\n\\n\\nWikipedia is ready for use.\")"
   ]
  },
  {
   "cell_type": "markdown",
   "metadata": {
    "papermill": {
     "duration": 0.021002,
     "end_time": "2020-10-19T23:27:18.082500",
     "exception": false,
     "start_time": "2020-10-19T23:27:18.061498",
     "status": "completed"
    },
    "tags": []
   },
   "source": [
    "We will search for a certain page and explore it first."
   ]
  },
  {
   "cell_type": "code",
   "execution_count": 2,
   "metadata": {
    "execution": {
     "iopub.execute_input": "2020-10-19T23:27:18.131830Z",
     "iopub.status.busy": "2020-10-19T23:27:18.131060Z",
     "iopub.status.idle": "2020-10-19T23:27:19.381970Z",
     "shell.execute_reply": "2020-10-19T23:27:19.381224Z"
    },
    "papermill": {
     "duration": 1.277799,
     "end_time": "2020-10-19T23:27:19.382103",
     "exception": false,
     "start_time": "2020-10-19T23:27:18.104304",
     "status": "completed"
    },
    "tags": []
   },
   "outputs": [
    {
     "data": {
      "text/plain": [
       "wikipedia.wikipedia.WikipediaPage"
      ]
     },
     "execution_count": 2,
     "metadata": {},
     "output_type": "execute_result"
    }
   ],
   "source": [
    "# Its easy to find certain topics.\n",
    "page_capitals = wikipedia.page(\"List of national capitals\")\n",
    "# So what type of objects are we dealing with?\n",
    "type(page_capitals)"
   ]
  },
  {
   "cell_type": "markdown",
   "metadata": {
    "papermill": {
     "duration": 0.022005,
     "end_time": "2020-10-19T23:27:19.426385",
     "exception": false,
     "start_time": "2020-10-19T23:27:19.404380",
     "status": "completed"
    },
    "tags": []
   },
   "source": [
    "Good thing is, this [link](https://wikipedia.readthedocs.io/en/latest/code.html#indices-and-tables) gives us all the information we need to use wikipedia module.\n",
    "Let's see which url our module was able to generate. We would also navigate there manually."
   ]
  },
  {
   "cell_type": "code",
   "execution_count": 3,
   "metadata": {
    "execution": {
     "iopub.execute_input": "2020-10-19T23:27:19.476807Z",
     "iopub.status.busy": "2020-10-19T23:27:19.475966Z",
     "iopub.status.idle": "2020-10-19T23:27:19.480758Z",
     "shell.execute_reply": "2020-10-19T23:27:19.480119Z"
    },
    "papermill": {
     "duration": 0.032254,
     "end_time": "2020-10-19T23:27:19.480897",
     "exception": false,
     "start_time": "2020-10-19T23:27:19.448643",
     "status": "completed"
    },
    "tags": []
   },
   "outputs": [
    {
     "data": {
      "text/plain": [
       "'https://en.wikipedia.org/wiki/List_of_national_capitals'"
      ]
     },
     "execution_count": 3,
     "metadata": {},
     "output_type": "execute_result"
    }
   ],
   "source": [
    "# This should have the url we need.\n",
    "page_capitals.url"
   ]
  },
  {
   "cell_type": "markdown",
   "metadata": {
    "papermill": {
     "duration": 0.022283,
     "end_time": "2020-10-19T23:27:19.526034",
     "exception": false,
     "start_time": "2020-10-19T23:27:19.503751",
     "status": "completed"
    },
    "tags": []
   },
   "source": [
    "Time to save the page contents into a variable."
   ]
  },
  {
   "cell_type": "code",
   "execution_count": 4,
   "metadata": {
    "execution": {
     "iopub.execute_input": "2020-10-19T23:27:19.578691Z",
     "iopub.status.busy": "2020-10-19T23:27:19.577939Z",
     "iopub.status.idle": "2020-10-19T23:27:20.100993Z",
     "shell.execute_reply": "2020-10-19T23:27:20.100126Z"
    },
    "papermill": {
     "duration": 0.552526,
     "end_time": "2020-10-19T23:27:20.101153",
     "exception": false,
     "start_time": "2020-10-19T23:27:19.548627",
     "status": "completed"
    },
    "tags": []
   },
   "outputs": [
    {
     "name": "stdout",
     "output_type": "stream",
     "text": [
      "<class 'str'>\n",
      "List of national capitals\n"
     ]
    }
   ],
   "source": [
    "# now that we have the URL to work with, lets grab the contents.\n",
    "page_content = page_capitals.content\n",
    "print(type(page_content))  # This tells us the object type.\n",
    "print(page_capitals.title)  # This should bring up correct page title. "
   ]
  },
  {
   "cell_type": "markdown",
   "metadata": {
    "papermill": {
     "duration": 0.029682,
     "end_time": "2020-10-19T23:27:20.164821",
     "exception": false,
     "start_time": "2020-10-19T23:27:20.135139",
     "status": "completed"
    },
    "tags": []
   },
   "source": [
    "Lets check the entire page_content."
   ]
  },
  {
   "cell_type": "code",
   "execution_count": 5,
   "metadata": {
    "execution": {
     "iopub.execute_input": "2020-10-19T23:27:20.221486Z",
     "iopub.status.busy": "2020-10-19T23:27:20.220567Z",
     "iopub.status.idle": "2020-10-19T23:27:20.224690Z",
     "shell.execute_reply": "2020-10-19T23:27:20.223961Z"
    },
    "papermill": {
     "duration": 0.03427,
     "end_time": "2020-10-19T23:27:20.224817",
     "exception": false,
     "start_time": "2020-10-19T23:27:20.190547",
     "status": "completed"
    },
    "tags": []
   },
   "outputs": [
    {
     "name": "stdout",
     "output_type": "stream",
     "text": [
      "This is a list of national capitals, including capitals of territories and dependencies, non-sovereign states including associated states and entities whose sovereignty is disputed.  \n",
      "The capitals included on this list are those associated with states or territories listed by the international standard ISO 3166-1, or that are included in the list of states with limited recognition.\n",
      "Sovereign states and observer states within the United Nations are shown in bold text.\n",
      "\n",
      "\n",
      "== Notes ==\n",
      "\n",
      "\n",
      "== References ==\n"
     ]
    }
   ],
   "source": [
    "print(page_content)"
   ]
  },
  {
   "cell_type": "markdown",
   "metadata": {
    "papermill": {
     "duration": 0.0235,
     "end_time": "2020-10-19T23:27:20.272064",
     "exception": false,
     "start_time": "2020-10-19T23:27:20.248564",
     "status": "completed"
    },
    "tags": []
   },
   "source": [
    "Well that wasn't extremely useful. What about the tables? Using wikipedia.html() will definitely work (and pull everything) but will return unformatted text. This is where [BeautifulSoup](https://pypi.org/project/beautifulsoup4/) comes in (not covered in this article). But let's keep on exploring."
   ]
  },
  {
   "cell_type": "code",
   "execution_count": 6,
   "metadata": {
    "execution": {
     "iopub.execute_input": "2020-10-19T23:27:20.326721Z",
     "iopub.status.busy": "2020-10-19T23:27:20.325946Z",
     "iopub.status.idle": "2020-10-19T23:27:20.848325Z",
     "shell.execute_reply": "2020-10-19T23:27:20.847594Z"
    },
    "papermill": {
     "duration": 0.552377,
     "end_time": "2020-10-19T23:27:20.848447",
     "exception": false,
     "start_time": "2020-10-19T23:27:20.296070",
     "status": "completed"
    },
    "tags": []
   },
   "outputs": [
    {
     "data": {
      "text/plain": [
       "['Articles containing Spanish-language text',\n",
       " 'Articles with short description',\n",
       " 'Lists of capitals',\n",
       " 'Lists of countries',\n",
       " 'Short description is different from Wikidata']"
      ]
     },
     "execution_count": 6,
     "metadata": {},
     "output_type": "execute_result"
    }
   ],
   "source": [
    "page_capitals.categories"
   ]
  },
  {
   "cell_type": "markdown",
   "metadata": {
    "papermill": {
     "duration": 0.0242,
     "end_time": "2020-10-19T23:27:20.897016",
     "exception": false,
     "start_time": "2020-10-19T23:27:20.872816",
     "status": "completed"
    },
    "tags": []
   },
   "source": [
    "We can pass .images to capture all the image urls and possibly download the flags? That would be nice. :)"
   ]
  },
  {
   "cell_type": "code",
   "execution_count": 7,
   "metadata": {
    "execution": {
     "iopub.execute_input": "2020-10-19T23:27:20.952595Z",
     "iopub.status.busy": "2020-10-19T23:27:20.951751Z",
     "iopub.status.idle": "2020-10-19T23:27:22.480310Z",
     "shell.execute_reply": "2020-10-19T23:27:22.480913Z"
    },
    "papermill": {
     "duration": 1.559488,
     "end_time": "2020-10-19T23:27:22.481076",
     "exception": false,
     "start_time": "2020-10-19T23:27:20.921588",
     "status": "completed"
    },
    "tags": []
   },
   "outputs": [
    {
     "data": {
      "text/plain": [
       "['https://upload.wikimedia.org/wikipedia/commons/9/9a/Flag_of_Afghanistan.svg',\n",
       " 'https://upload.wikimedia.org/wikipedia/commons/3/36/Flag_of_Albania.svg',\n",
       " 'https://upload.wikimedia.org/wikipedia/commons/7/77/Flag_of_Algeria.svg',\n",
       " 'https://upload.wikimedia.org/wikipedia/commons/8/87/Flag_of_American_Samoa.svg',\n",
       " 'https://upload.wikimedia.org/wikipedia/commons/1/19/Flag_of_Andorra.svg',\n",
       " 'https://upload.wikimedia.org/wikipedia/commons/9/9d/Flag_of_Angola.svg',\n",
       " 'https://upload.wikimedia.org/wikipedia/commons/b/b4/Flag_of_Anguilla.svg',\n",
       " 'https://upload.wikimedia.org/wikipedia/commons/8/89/Flag_of_Antigua_and_Barbuda.svg',\n",
       " 'https://upload.wikimedia.org/wikipedia/commons/1/1a/Flag_of_Argentina.svg',\n",
       " 'https://upload.wikimedia.org/wikipedia/commons/2/2f/Flag_of_Armenia.svg',\n",
       " 'https://upload.wikimedia.org/wikipedia/commons/3/3d/Flag_of_Artsakh.svg',\n",
       " 'https://upload.wikimedia.org/wikipedia/commons/f/f6/Flag_of_Aruba.svg',\n",
       " 'https://upload.wikimedia.org/wikipedia/commons/6/65/Flag_of_Ascension_Island.svg',\n",
       " 'https://upload.wikimedia.org/wikipedia/commons/8/88/Flag_of_Australia_%28converted%29.svg',\n",
       " 'https://upload.wikimedia.org/wikipedia/commons/4/41/Flag_of_Austria.svg',\n",
       " 'https://upload.wikimedia.org/wikipedia/commons/d/dd/Flag_of_Azerbaijan.svg',\n",
       " 'https://upload.wikimedia.org/wikipedia/commons/2/2c/Flag_of_Bahrain.svg',\n",
       " 'https://upload.wikimedia.org/wikipedia/commons/f/f9/Flag_of_Bangladesh.svg',\n",
       " 'https://upload.wikimedia.org/wikipedia/commons/e/ef/Flag_of_Barbados.svg',\n",
       " 'https://upload.wikimedia.org/wikipedia/commons/8/85/Flag_of_Belarus.svg',\n",
       " 'https://upload.wikimedia.org/wikipedia/commons/9/92/Flag_of_Belgium_%28civil%29.svg',\n",
       " 'https://upload.wikimedia.org/wikipedia/commons/e/e7/Flag_of_Belize.svg',\n",
       " 'https://upload.wikimedia.org/wikipedia/commons/0/0a/Flag_of_Benin.svg',\n",
       " 'https://upload.wikimedia.org/wikipedia/commons/b/bf/Flag_of_Bermuda.svg',\n",
       " 'https://upload.wikimedia.org/wikipedia/commons/9/91/Flag_of_Bhutan.svg',\n",
       " 'https://upload.wikimedia.org/wikipedia/commons/4/48/Flag_of_Bolivia.svg',\n",
       " 'https://upload.wikimedia.org/wikipedia/commons/1/1e/Flag_of_Bonaire.svg',\n",
       " 'https://upload.wikimedia.org/wikipedia/commons/b/bf/Flag_of_Bosnia_and_Herzegovina.svg',\n",
       " 'https://upload.wikimedia.org/wikipedia/commons/f/fa/Flag_of_Botswana.svg',\n",
       " 'https://upload.wikimedia.org/wikipedia/commons/9/9c/Flag_of_Brunei.svg',\n",
       " 'https://upload.wikimedia.org/wikipedia/commons/9/9a/Flag_of_Bulgaria.svg',\n",
       " 'https://upload.wikimedia.org/wikipedia/commons/3/31/Flag_of_Burkina_Faso.svg',\n",
       " 'https://upload.wikimedia.org/wikipedia/commons/5/50/Flag_of_Burundi.svg',\n",
       " 'https://upload.wikimedia.org/wikipedia/commons/8/83/Flag_of_Cambodia.svg',\n",
       " 'https://upload.wikimedia.org/wikipedia/commons/4/4f/Flag_of_Cameroon.svg',\n",
       " 'https://upload.wikimedia.org/wikipedia/commons/d/d9/Flag_of_Canada_%28Pantone%29.svg',\n",
       " 'https://upload.wikimedia.org/wikipedia/commons/3/38/Flag_of_Cape_Verde.svg',\n",
       " 'https://upload.wikimedia.org/wikipedia/commons/4/4b/Flag_of_Chad.svg',\n",
       " 'https://upload.wikimedia.org/wikipedia/commons/7/78/Flag_of_Chile.svg',\n",
       " 'https://upload.wikimedia.org/wikipedia/commons/6/67/Flag_of_Christmas_Island.svg',\n",
       " 'https://upload.wikimedia.org/wikipedia/commons/2/21/Flag_of_Colombia.svg',\n",
       " 'https://upload.wikimedia.org/wikipedia/commons/f/f2/Flag_of_Costa_Rica.svg',\n",
       " 'https://upload.wikimedia.org/wikipedia/commons/1/1b/Flag_of_Croatia.svg',\n",
       " 'https://upload.wikimedia.org/wikipedia/commons/b/bd/Flag_of_Cuba.svg',\n",
       " 'https://upload.wikimedia.org/wikipedia/commons/b/b1/Flag_of_Cura%C3%A7ao.svg',\n",
       " 'https://upload.wikimedia.org/wikipedia/commons/d/d4/Flag_of_Cyprus.svg',\n",
       " 'https://upload.wikimedia.org/wikipedia/commons/f/fe/Flag_of_C%C3%B4te_d%27Ivoire.svg',\n",
       " 'https://upload.wikimedia.org/wikipedia/commons/9/9c/Flag_of_Denmark.svg',\n",
       " 'https://upload.wikimedia.org/wikipedia/commons/3/34/Flag_of_Djibouti.svg',\n",
       " 'https://upload.wikimedia.org/wikipedia/commons/c/c4/Flag_of_Dominica.svg',\n",
       " 'https://upload.wikimedia.org/wikipedia/commons/2/26/Flag_of_East_Timor.svg',\n",
       " 'https://upload.wikimedia.org/wikipedia/commons/e/e8/Flag_of_Ecuador.svg',\n",
       " 'https://upload.wikimedia.org/wikipedia/commons/f/fe/Flag_of_Egypt.svg',\n",
       " 'https://upload.wikimedia.org/wikipedia/commons/3/34/Flag_of_El_Salvador.svg',\n",
       " 'https://upload.wikimedia.org/wikipedia/commons/3/31/Flag_of_Equatorial_Guinea.svg',\n",
       " 'https://upload.wikimedia.org/wikipedia/commons/8/8f/Flag_of_Estonia.svg',\n",
       " 'https://upload.wikimedia.org/wikipedia/commons/f/fb/Flag_of_Eswatini.svg',\n",
       " 'https://upload.wikimedia.org/wikipedia/commons/7/71/Flag_of_Ethiopia.svg',\n",
       " 'https://upload.wikimedia.org/wikipedia/commons/b/b7/Flag_of_Europe.svg',\n",
       " 'https://upload.wikimedia.org/wikipedia/commons/e/e4/Flag_of_the_Federated_States_of_Micronesia.svg',\n",
       " 'https://upload.wikimedia.org/wikipedia/commons/b/ba/Flag_of_Fiji.svg',\n",
       " 'https://upload.wikimedia.org/wikipedia/commons/b/bc/Flag_of_Finland.svg',\n",
       " 'https://upload.wikimedia.org/wikipedia/commons/d/db/Flag_of_French_Polynesia.svg',\n",
       " 'https://upload.wikimedia.org/wikipedia/commons/0/0f/Flag_of_Georgia.svg',\n",
       " 'https://upload.wikimedia.org/wikipedia/commons/1/19/Flag_of_Ghana.svg',\n",
       " 'https://upload.wikimedia.org/wikipedia/commons/0/02/Flag_of_Gibraltar.svg',\n",
       " 'https://upload.wikimedia.org/wikipedia/commons/5/5c/Flag_of_Greece.svg',\n",
       " 'https://upload.wikimedia.org/wikipedia/commons/0/09/Flag_of_Greenland.svg',\n",
       " 'https://upload.wikimedia.org/wikipedia/commons/0/07/Flag_of_Guam.svg',\n",
       " 'https://upload.wikimedia.org/wikipedia/commons/e/ec/Flag_of_Guatemala.svg',\n",
       " 'https://upload.wikimedia.org/wikipedia/commons/f/fa/Flag_of_Guernsey.svg',\n",
       " 'https://upload.wikimedia.org/wikipedia/commons/0/01/Flag_of_Guinea-Bissau.svg',\n",
       " 'https://upload.wikimedia.org/wikipedia/commons/e/ed/Flag_of_Guinea.svg',\n",
       " 'https://upload.wikimedia.org/wikipedia/commons/9/99/Flag_of_Guyana.svg',\n",
       " 'https://upload.wikimedia.org/wikipedia/commons/5/56/Flag_of_Haiti.svg',\n",
       " 'https://upload.wikimedia.org/wikipedia/commons/8/82/Flag_of_Honduras.svg',\n",
       " 'https://upload.wikimedia.org/wikipedia/commons/8/82/Flag_of_Honduras.svg',\n",
       " 'https://upload.wikimedia.org/wikipedia/commons/c/c1/Flag_of_Hungary.svg',\n",
       " 'https://upload.wikimedia.org/wikipedia/commons/c/ce/Flag_of_Iceland.svg',\n",
       " 'https://upload.wikimedia.org/wikipedia/commons/9/9f/Flag_of_Indonesia.svg',\n",
       " 'https://upload.wikimedia.org/wikipedia/commons/c/ca/Flag_of_Iran.svg',\n",
       " 'https://upload.wikimedia.org/wikipedia/commons/f/f6/Flag_of_Iraq.svg',\n",
       " 'https://upload.wikimedia.org/wikipedia/commons/4/45/Flag_of_Ireland.svg',\n",
       " 'https://upload.wikimedia.org/wikipedia/commons/d/d4/Flag_of_Israel.svg',\n",
       " 'https://upload.wikimedia.org/wikipedia/commons/0/0a/Flag_of_Jamaica.svg',\n",
       " 'https://upload.wikimedia.org/wikipedia/commons/1/1c/Flag_of_Jersey.svg',\n",
       " 'https://upload.wikimedia.org/wikipedia/commons/c/c0/Flag_of_Jordan.svg',\n",
       " 'https://upload.wikimedia.org/wikipedia/commons/d/d3/Flag_of_Kazakhstan.svg',\n",
       " 'https://upload.wikimedia.org/wikipedia/commons/4/49/Flag_of_Kenya.svg',\n",
       " 'https://upload.wikimedia.org/wikipedia/commons/d/d3/Flag_of_Kiribati.svg',\n",
       " 'https://upload.wikimedia.org/wikipedia/commons/1/1f/Flag_of_Kosovo.svg',\n",
       " 'https://upload.wikimedia.org/wikipedia/commons/a/aa/Flag_of_Kuwait.svg',\n",
       " 'https://upload.wikimedia.org/wikipedia/commons/c/c7/Flag_of_Kyrgyzstan.svg',\n",
       " 'https://upload.wikimedia.org/wikipedia/commons/5/56/Flag_of_Laos.svg',\n",
       " 'https://upload.wikimedia.org/wikipedia/commons/8/84/Flag_of_Latvia.svg',\n",
       " 'https://upload.wikimedia.org/wikipedia/commons/5/59/Flag_of_Lebanon.svg',\n",
       " 'https://upload.wikimedia.org/wikipedia/commons/4/4a/Flag_of_Lesotho.svg',\n",
       " 'https://upload.wikimedia.org/wikipedia/commons/b/b8/Flag_of_Liberia.svg',\n",
       " 'https://upload.wikimedia.org/wikipedia/commons/0/05/Flag_of_Libya.svg',\n",
       " 'https://upload.wikimedia.org/wikipedia/commons/4/47/Flag_of_Liechtenstein.svg',\n",
       " 'https://upload.wikimedia.org/wikipedia/commons/1/11/Flag_of_Lithuania.svg',\n",
       " 'https://upload.wikimedia.org/wikipedia/commons/d/da/Flag_of_Luxembourg.svg',\n",
       " 'https://upload.wikimedia.org/wikipedia/commons/b/bc/Flag_of_Madagascar.svg',\n",
       " 'https://upload.wikimedia.org/wikipedia/commons/d/d1/Flag_of_Malawi.svg',\n",
       " 'https://upload.wikimedia.org/wikipedia/commons/6/66/Flag_of_Malaysia.svg',\n",
       " 'https://upload.wikimedia.org/wikipedia/commons/0/0f/Flag_of_Maldives.svg',\n",
       " 'https://upload.wikimedia.org/wikipedia/commons/9/92/Flag_of_Mali.svg',\n",
       " 'https://upload.wikimedia.org/wikipedia/commons/7/73/Flag_of_Malta.svg',\n",
       " 'https://upload.wikimedia.org/wikipedia/commons/4/43/Flag_of_Mauritania.svg',\n",
       " 'https://upload.wikimedia.org/wikipedia/commons/7/77/Flag_of_Mauritius.svg',\n",
       " 'https://upload.wikimedia.org/wikipedia/commons/f/fc/Flag_of_Mexico.svg',\n",
       " 'https://upload.wikimedia.org/wikipedia/commons/2/27/Flag_of_Moldova.svg',\n",
       " 'https://upload.wikimedia.org/wikipedia/commons/e/ea/Flag_of_Monaco.svg',\n",
       " 'https://upload.wikimedia.org/wikipedia/commons/4/4c/Flag_of_Mongolia.svg',\n",
       " 'https://upload.wikimedia.org/wikipedia/commons/6/64/Flag_of_Montenegro.svg',\n",
       " 'https://upload.wikimedia.org/wikipedia/commons/d/d0/Flag_of_Montserrat.svg',\n",
       " 'https://upload.wikimedia.org/wikipedia/commons/2/2c/Flag_of_Morocco.svg',\n",
       " 'https://upload.wikimedia.org/wikipedia/commons/d/d0/Flag_of_Mozambique.svg',\n",
       " 'https://upload.wikimedia.org/wikipedia/commons/8/8c/Flag_of_Myanmar.svg',\n",
       " 'https://upload.wikimedia.org/wikipedia/commons/0/00/Flag_of_Namibia.svg',\n",
       " 'https://upload.wikimedia.org/wikipedia/commons/3/30/Flag_of_Nauru.svg',\n",
       " 'https://upload.wikimedia.org/wikipedia/commons/9/9b/Flag_of_Nepal.svg',\n",
       " 'https://upload.wikimedia.org/wikipedia/commons/3/3e/Flag_of_New_Zealand.svg',\n",
       " 'https://upload.wikimedia.org/wikipedia/commons/1/19/Flag_of_Nicaragua.svg',\n",
       " 'https://upload.wikimedia.org/wikipedia/commons/f/f4/Flag_of_Niger.svg',\n",
       " 'https://upload.wikimedia.org/wikipedia/commons/7/79/Flag_of_Nigeria.svg',\n",
       " 'https://upload.wikimedia.org/wikipedia/commons/0/01/Flag_of_Niue.svg',\n",
       " 'https://upload.wikimedia.org/wikipedia/commons/4/48/Flag_of_Norfolk_Island.svg',\n",
       " 'https://upload.wikimedia.org/wikipedia/commons/5/51/Flag_of_North_Korea.svg',\n",
       " 'https://upload.wikimedia.org/wikipedia/commons/7/79/Flag_of_North_Macedonia.svg',\n",
       " 'https://upload.wikimedia.org/wikipedia/commons/d/d9/Flag_of_Norway.svg',\n",
       " 'https://upload.wikimedia.org/wikipedia/commons/d/dd/Flag_of_Oman.svg',\n",
       " 'https://upload.wikimedia.org/wikipedia/commons/3/32/Flag_of_Pakistan.svg',\n",
       " 'https://upload.wikimedia.org/wikipedia/commons/4/48/Flag_of_Palau.svg',\n",
       " 'https://upload.wikimedia.org/wikipedia/commons/0/00/Flag_of_Palestine.svg',\n",
       " 'https://upload.wikimedia.org/wikipedia/commons/a/ab/Flag_of_Panama.svg',\n",
       " 'https://upload.wikimedia.org/wikipedia/commons/e/e3/Flag_of_Papua_New_Guinea.svg',\n",
       " 'https://upload.wikimedia.org/wikipedia/commons/2/27/Flag_of_Paraguay.svg',\n",
       " 'https://upload.wikimedia.org/wikipedia/commons/c/cf/Flag_of_Peru.svg',\n",
       " 'https://upload.wikimedia.org/wikipedia/commons/5/5c/Flag_of_Portugal.svg',\n",
       " 'https://upload.wikimedia.org/wikipedia/commons/2/28/Flag_of_Puerto_Rico.svg',\n",
       " 'https://upload.wikimedia.org/wikipedia/commons/6/65/Flag_of_Qatar.svg',\n",
       " 'https://upload.wikimedia.org/wikipedia/commons/7/73/Flag_of_Romania.svg',\n",
       " 'https://upload.wikimedia.org/wikipedia/commons/1/17/Flag_of_Rwanda.svg',\n",
       " 'https://upload.wikimedia.org/wikipedia/commons/5/5a/Flag_of_Saba.svg',\n",
       " 'https://upload.wikimedia.org/wikipedia/commons/0/00/Flag_of_Saint_Helena.svg',\n",
       " 'https://upload.wikimedia.org/wikipedia/commons/3/31/Flag_of_Samoa.svg',\n",
       " 'https://upload.wikimedia.org/wikipedia/commons/b/b1/Flag_of_San_Marino.svg',\n",
       " 'https://upload.wikimedia.org/wikipedia/commons/0/0d/Flag_of_Saudi_Arabia.svg',\n",
       " 'https://upload.wikimedia.org/wikipedia/commons/f/ff/Flag_of_Serbia.svg',\n",
       " 'https://upload.wikimedia.org/wikipedia/commons/f/fc/Flag_of_Seychelles.svg',\n",
       " 'https://upload.wikimedia.org/wikipedia/commons/4/48/Flag_of_Singapore.svg',\n",
       " 'https://upload.wikimedia.org/wikipedia/commons/0/08/Flag_of_Sint_Eustatius.svg',\n",
       " 'https://upload.wikimedia.org/wikipedia/commons/d/d3/Flag_of_Sint_Maarten.svg',\n",
       " 'https://upload.wikimedia.org/wikipedia/commons/e/e6/Flag_of_Slovakia.svg',\n",
       " 'https://upload.wikimedia.org/wikipedia/commons/f/f0/Flag_of_Slovenia.svg',\n",
       " 'https://upload.wikimedia.org/wikipedia/commons/a/a0/Flag_of_Somalia.svg',\n",
       " 'https://upload.wikimedia.org/wikipedia/commons/4/4d/Flag_of_Somaliland.svg',\n",
       " 'https://upload.wikimedia.org/wikipedia/commons/a/af/Flag_of_South_Africa.svg',\n",
       " 'https://upload.wikimedia.org/wikipedia/commons/e/ed/Flag_of_South_Georgia_and_the_South_Sandwich_Islands.svg',\n",
       " 'https://upload.wikimedia.org/wikipedia/commons/0/09/Flag_of_South_Korea.svg',\n",
       " 'https://upload.wikimedia.org/wikipedia/commons/1/12/Flag_of_South_Ossetia.svg',\n",
       " 'https://upload.wikimedia.org/wikipedia/commons/7/7a/Flag_of_South_Sudan.svg',\n",
       " 'https://upload.wikimedia.org/wikipedia/commons/1/11/Flag_of_Sri_Lanka.svg',\n",
       " 'https://upload.wikimedia.org/wikipedia/commons/0/01/Flag_of_Sudan.svg',\n",
       " 'https://upload.wikimedia.org/wikipedia/commons/6/60/Flag_of_Suriname.svg',\n",
       " 'https://upload.wikimedia.org/wikipedia/commons/f/f3/Flag_of_Switzerland.svg',\n",
       " 'https://upload.wikimedia.org/wikipedia/commons/5/53/Flag_of_Syria.svg',\n",
       " 'https://upload.wikimedia.org/wikipedia/commons/d/d0/Flag_of_Tajikistan.svg',\n",
       " 'https://upload.wikimedia.org/wikipedia/commons/a/a9/Flag_of_Thailand.svg',\n",
       " 'https://upload.wikimedia.org/wikipedia/commons/6/68/Flag_of_Togo.svg',\n",
       " 'https://upload.wikimedia.org/wikipedia/commons/6/64/Flag_of_Trinidad_and_Tobago.svg',\n",
       " 'https://upload.wikimedia.org/wikipedia/commons/c/ce/Flag_of_Tunisia.svg',\n",
       " 'https://upload.wikimedia.org/wikipedia/commons/b/b4/Flag_of_Turkey.svg',\n",
       " 'https://upload.wikimedia.org/wikipedia/commons/1/1b/Flag_of_Turkmenistan.svg',\n",
       " 'https://upload.wikimedia.org/wikipedia/commons/3/38/Flag_of_Tuvalu.svg',\n",
       " 'https://upload.wikimedia.org/wikipedia/commons/4/4e/Flag_of_Uganda.svg',\n",
       " 'https://upload.wikimedia.org/wikipedia/commons/4/49/Flag_of_Ukraine.svg',\n",
       " 'https://upload.wikimedia.org/wikipedia/commons/f/fe/Flag_of_Uruguay.svg',\n",
       " 'https://upload.wikimedia.org/wikipedia/commons/b/bc/Flag_of_Vanuatu.svg',\n",
       " 'https://upload.wikimedia.org/wikipedia/commons/0/06/Flag_of_Venezuela.svg',\n",
       " 'https://upload.wikimedia.org/wikipedia/commons/2/21/Flag_of_Vietnam.svg',\n",
       " 'https://upload.wikimedia.org/wikipedia/commons/8/89/Flag_of_Yemen.svg',\n",
       " 'https://upload.wikimedia.org/wikipedia/commons/0/06/Flag_of_Zambia.svg',\n",
       " 'https://upload.wikimedia.org/wikipedia/commons/6/6a/Flag_of_Zimbabwe.svg',\n",
       " 'https://upload.wikimedia.org/wikipedia/commons/4/42/Flag_of_the_British_Virgin_Islands.svg',\n",
       " 'https://upload.wikimedia.org/wikipedia/commons/0/0f/Flag_of_the_Cayman_Islands.svg',\n",
       " 'https://upload.wikimedia.org/wikipedia/commons/6/6f/Flag_of_the_Central_African_Republic.svg',\n",
       " 'https://upload.wikimedia.org/wikipedia/commons/7/74/Flag_of_the_Cocos_%28Keeling%29_Islands.svg',\n",
       " 'https://upload.wikimedia.org/wikipedia/commons/9/94/Flag_of_the_Comoros.svg',\n",
       " 'https://upload.wikimedia.org/wikipedia/commons/3/35/Flag_of_the_Cook_Islands.svg',\n",
       " 'https://upload.wikimedia.org/wikipedia/commons/c/cb/Flag_of_the_Czech_Republic.svg',\n",
       " 'https://upload.wikimedia.org/wikipedia/commons/6/6f/Flag_of_the_Democratic_Republic_of_the_Congo.svg',\n",
       " 'https://upload.wikimedia.org/wikipedia/commons/9/9f/Flag_of_the_Dominican_Republic.svg',\n",
       " 'https://upload.wikimedia.org/wikipedia/commons/8/83/Flag_of_the_Falkland_Islands.svg',\n",
       " 'https://upload.wikimedia.org/wikipedia/commons/3/3c/Flag_of_the_Faroe_Islands.svg',\n",
       " 'https://upload.wikimedia.org/wikipedia/commons/e/e4/Flag_of_the_Federated_States_of_Micronesia.svg',\n",
       " 'https://upload.wikimedia.org/wikipedia/commons/b/bc/Flag_of_the_Isle_of_Man.svg',\n",
       " 'https://upload.wikimedia.org/wikipedia/commons/2/2e/Flag_of_the_Marshall_Islands.svg',\n",
       " 'https://upload.wikimedia.org/wikipedia/commons/2/20/Flag_of_the_Netherlands.svg',\n",
       " 'https://upload.wikimedia.org/wikipedia/commons/e/e0/Flag_of_the_Northern_Mariana_Islands.svg',\n",
       " 'https://upload.wikimedia.org/wikipedia/commons/f/fa/Flag_of_the_People%27s_Republic_of_China.svg',\n",
       " 'https://upload.wikimedia.org/wikipedia/commons/9/99/Flag_of_the_Philippines.svg',\n",
       " 'https://upload.wikimedia.org/wikipedia/commons/8/88/Flag_of_the_Pitcairn_Islands.svg',\n",
       " 'https://upload.wikimedia.org/wikipedia/commons/7/7a/Flag_of_the_Republic_of_Abkhazia.svg',\n",
       " 'https://upload.wikimedia.org/wikipedia/commons/7/72/Flag_of_the_Republic_of_China.svg',\n",
       " 'https://upload.wikimedia.org/wikipedia/commons/9/92/Flag_of_the_Republic_of_the_Congo.svg',\n",
       " 'https://upload.wikimedia.org/wikipedia/commons/2/26/Flag_of_the_Sahrawi_Arab_Democratic_Republic.svg',\n",
       " 'https://upload.wikimedia.org/wikipedia/commons/f/fc/Flag_of_Seychelles.svg',\n",
       " 'https://upload.wikimedia.org/wikipedia/commons/a/a0/Flag_of_the_Turks_and_Caicos_Islands.svg',\n",
       " 'https://upload.wikimedia.org/wikipedia/commons/c/cb/Flag_of_the_United_Arab_Emirates.svg',\n",
       " 'https://upload.wikimedia.org/wikipedia/commons/f/f8/Flag_of_the_United_States_Virgin_Islands.svg',\n",
       " 'https://upload.wikimedia.org/wikipedia/commons/0/00/Flag_of_the_Vatican_City.svg',\n",
       " 'https://upload.wikimedia.org/wikipedia/commons/5/52/Flag_of_%C3%85land.svg',\n",
       " 'https://upload.wikimedia.org/wikipedia/commons/2/26/Flags_of_New_Caledonia.svg',\n",
       " 'https://upload.wikimedia.org/wikipedia/commons/6/65/Flag_of_Ascension_Island.svg',\n",
       " 'https://upload.wikimedia.org/wikipedia/en/0/05/Flag_of_Brazil.svg',\n",
       " 'https://upload.wikimedia.org/wikipedia/commons/2/29/Flag_of_Eritrea.svg',\n",
       " 'https://upload.wikimedia.org/wikipedia/en/c/c3/Flag_of_France.svg',\n",
       " 'https://upload.wikimedia.org/wikipedia/commons/0/04/Flag_of_Gabon.svg',\n",
       " 'https://upload.wikimedia.org/wikipedia/en/b/ba/Flag_of_Germany.svg',\n",
       " 'https://upload.wikimedia.org/wikipedia/commons/b/bc/Flag_of_Grenada.svg',\n",
       " 'https://upload.wikimedia.org/wikipedia/en/4/41/Flag_of_India.svg',\n",
       " 'https://upload.wikimedia.org/wikipedia/en/0/03/Flag_of_Italy.svg',\n",
       " 'https://upload.wikimedia.org/wikipedia/en/9/9e/Flag_of_Japan.svg',\n",
       " 'https://upload.wikimedia.org/wikipedia/en/1/12/Flag_of_Poland.svg',\n",
       " 'https://upload.wikimedia.org/wikipedia/en/f/f3/Flag_of_Russia.svg',\n",
       " 'https://upload.wikimedia.org/wikipedia/commons/f/fe/Flag_of_Saint_Kitts_and_Nevis.svg',\n",
       " 'https://upload.wikimedia.org/wikipedia/commons/9/9f/Flag_of_Saint_Lucia.svg',\n",
       " 'https://upload.wikimedia.org/wikipedia/commons/6/6d/Flag_of_Saint_Vincent_and_the_Grenadines.svg',\n",
       " 'https://upload.wikimedia.org/wikipedia/commons/4/4f/Flag_of_Sao_Tome_and_Principe.svg',\n",
       " 'https://upload.wikimedia.org/wikipedia/commons/f/fd/Flag_of_Senegal.svg',\n",
       " 'https://upload.wikimedia.org/wikipedia/commons/1/17/Flag_of_Sierra_Leone.svg',\n",
       " 'https://upload.wikimedia.org/wikipedia/en/9/9a/Flag_of_Spain.svg',\n",
       " 'https://upload.wikimedia.org/wikipedia/en/4/4c/Flag_of_Sweden.svg',\n",
       " 'https://upload.wikimedia.org/wikipedia/commons/3/38/Flag_of_Tanzania.svg',\n",
       " 'https://upload.wikimedia.org/wikipedia/commons/7/77/Flag_of_The_Gambia.svg',\n",
       " 'https://upload.wikimedia.org/wikipedia/commons/9/9a/Flag_of_Tonga.svg',\n",
       " 'https://upload.wikimedia.org/wikipedia/commons/8/84/Flag_of_Uzbekistan.svg',\n",
       " 'https://upload.wikimedia.org/wikipedia/commons/9/93/Flag_of_the_Bahamas.svg',\n",
       " 'https://upload.wikimedia.org/wikipedia/commons/7/74/Flag_of_the_Solomon_Islands.svg',\n",
       " 'https://upload.wikimedia.org/wikipedia/en/a/ae/Flag_of_the_United_Kingdom.svg',\n",
       " 'https://upload.wikimedia.org/wikipedia/en/a/a4/Flag_of_the_United_States.svg']"
      ]
     },
     "execution_count": 7,
     "metadata": {},
     "output_type": "execute_result"
    }
   ],
   "source": [
    "capture_the_flags = page_capitals.images\n",
    "# Lets check for any inconsistencies.\n",
    "capture_the_flags"
   ]
  },
  {
   "cell_type": "code",
   "execution_count": 8,
   "metadata": {
    "execution": {
     "iopub.execute_input": "2020-10-19T23:27:22.539066Z",
     "iopub.status.busy": "2020-10-19T23:27:22.538113Z",
     "iopub.status.idle": "2020-10-19T23:27:22.542301Z",
     "shell.execute_reply": "2020-10-19T23:27:22.542889Z"
    },
    "papermill": {
     "duration": 0.036221,
     "end_time": "2020-10-19T23:27:22.543040",
     "exception": false,
     "start_time": "2020-10-19T23:27:22.506819",
     "status": "completed"
    },
    "tags": []
   },
   "outputs": [
    {
     "name": "stdout",
     "output_type": "stream",
     "text": [
      "We have flags of total 243 countries here.\n"
     ]
    }
   ],
   "source": [
    "print(f\"We have flags of total {len(capture_the_flags)} countries here.\")\n"
   ]
  },
  {
   "cell_type": "markdown",
   "metadata": {
    "papermill": {
     "duration": 0.025679,
     "end_time": "2020-10-19T23:27:22.595053",
     "exception": false,
     "start_time": "2020-10-19T23:27:22.569374",
     "status": "completed"
    },
    "tags": []
   },
   "source": [
    "To download the files, we will use the wget module which is extremely easy to use."
   ]
  },
  {
   "cell_type": "code",
   "execution_count": 9,
   "metadata": {
    "execution": {
     "iopub.execute_input": "2020-10-19T23:27:22.657663Z",
     "iopub.status.busy": "2020-10-19T23:27:22.653802Z",
     "iopub.status.idle": "2020-10-19T23:27:33.051726Z",
     "shell.execute_reply": "2020-10-19T23:27:33.052371Z"
    },
    "papermill": {
     "duration": 10.430618,
     "end_time": "2020-10-19T23:27:33.052539",
     "exception": false,
     "start_time": "2020-10-19T23:27:22.621921",
     "status": "completed"
    },
    "tags": []
   },
   "outputs": [
    {
     "name": "stdout",
     "output_type": "stream",
     "text": [
      "Collecting wget\r\n",
      "  Downloading wget-3.2.zip (10 kB)\r\n",
      "Building wheels for collected packages: wget\r\n",
      "  Building wheel for wget (setup.py) ... \u001b[?25l-\b \b\\\b \bdone\r\n",
      "\u001b[?25h  Created wheel for wget: filename=wget-3.2-py3-none-any.whl size=9681 sha256=a938333e64c8fdeb9c801bff620889c26ec6c5d144a426b4718bcf3c7ea8048e\r\n",
      "  Stored in directory: /root/.cache/pip/wheels/a1/b6/7c/0e63e34eb06634181c63adacca38b79ff8f35c37e3c13e3c02\r\n",
      "Successfully built wget\r\n",
      "Installing collected packages: wget\r\n",
      "Successfully installed wget-3.2\r\n",
      "\u001b[33mWARNING: You are using pip version 20.2.3; however, version 20.2.4 is available.\r\n",
      "You should consider upgrading via the '/opt/conda/bin/python3.7 -m pip install --upgrade pip' command.\u001b[0m\r\n",
      "\n",
      "\n",
      "\n",
      "\n",
      "wget is ready for use\n"
     ]
    }
   ],
   "source": [
    "!pip install wget\n",
    "import wget\n",
    "print(\"\\n\\n\\n\\nwget is ready for use\")"
   ]
  },
  {
   "cell_type": "code",
   "execution_count": 10,
   "metadata": {
    "execution": {
     "iopub.execute_input": "2020-10-19T23:27:33.121433Z",
     "iopub.status.busy": "2020-10-19T23:27:33.120389Z",
     "iopub.status.idle": "2020-10-19T23:27:34.838887Z",
     "shell.execute_reply": "2020-10-19T23:27:34.838065Z"
    },
    "papermill": {
     "duration": 1.755887,
     "end_time": "2020-10-19T23:27:34.839018",
     "exception": false,
     "start_time": "2020-10-19T23:27:33.083131",
     "status": "completed"
    },
    "tags": []
   },
   "outputs": [
    {
     "name": "stdout",
     "output_type": "stream",
     "text": [
      "Image Successfully Downloaded:  Flag_of_Afghanistan.svg\n",
      "Image Successfully Downloaded:  Flag_of_Albania.svg\n",
      "Image Successfully Downloaded:  Flag_of_Algeria.svg\n",
      "Image Successfully Downloaded:  Flag_of_American_Samoa.svg\n",
      "Image Successfully Downloaded:  Flag_of_Andorra.svg\n"
     ]
    }
   ],
   "source": [
    "# We will make a list, capture the names of the flags as well as download them in working directory.\n",
    "flags = []\n",
    "\n",
    "# Looping to get the first 5 flags only.\n",
    "\n",
    "for i in capture_the_flags[:5]:\n",
    "    # Use wget download method to download specified image url.\n",
    "    image_filename = wget.download(i)\n",
    "\n",
    "    print('Image Successfully Downloaded: ', image_filename)\n",
    "    flags.append(image_filename)"
   ]
  },
  {
   "cell_type": "code",
   "execution_count": 11,
   "metadata": {
    "execution": {
     "iopub.execute_input": "2020-10-19T23:27:34.911905Z",
     "iopub.status.busy": "2020-10-19T23:27:34.910909Z",
     "iopub.status.idle": "2020-10-19T23:27:34.915880Z",
     "shell.execute_reply": "2020-10-19T23:27:34.915274Z"
    },
    "papermill": {
     "duration": 0.043268,
     "end_time": "2020-10-19T23:27:34.915998",
     "exception": false,
     "start_time": "2020-10-19T23:27:34.872730",
     "status": "completed"
    },
    "tags": []
   },
   "outputs": [
    {
     "data": {
      "text/plain": [
       "['Flag_of_Afghanistan.svg',\n",
       " 'Flag_of_Albania.svg',\n",
       " 'Flag_of_Algeria.svg',\n",
       " 'Flag_of_American_Samoa.svg',\n",
       " 'Flag_of_Andorra.svg']"
      ]
     },
     "execution_count": 11,
     "metadata": {},
     "output_type": "execute_result"
    }
   ],
   "source": [
    "flags"
   ]
  },
  {
   "cell_type": "markdown",
   "metadata": {
    "papermill": {
     "duration": 0.033331,
     "end_time": "2020-10-19T23:27:34.983071",
     "exception": false,
     "start_time": "2020-10-19T23:27:34.949740",
     "status": "completed"
    },
    "tags": []
   },
   "source": [
    "### Success!!!"
   ]
  },
  {
   "cell_type": "markdown",
   "metadata": {
    "papermill": {
     "duration": 0.033778,
     "end_time": "2020-10-19T23:27:35.054525",
     "exception": false,
     "start_time": "2020-10-19T23:27:35.020747",
     "status": "completed"
    },
    "tags": []
   },
   "source": [
    "#### In case you are like me and since 'wget' automatically doesn't overwrite existing file/file-name, use this code to manually delete them (in my case kaggle) or simply delete everything from your local directoy if you have direct access to. Or just create a simple function to check for existing file and tell wget not to skip that. Possibilities are unlimited. "
   ]
  },
  {
   "cell_type": "code",
   "execution_count": 12,
   "metadata": {
    "execution": {
     "iopub.execute_input": "2020-10-19T23:27:35.127255Z",
     "iopub.status.busy": "2020-10-19T23:27:35.126211Z",
     "iopub.status.idle": "2020-10-19T23:27:35.129567Z",
     "shell.execute_reply": "2020-10-19T23:27:35.128948Z"
    },
    "papermill": {
     "duration": 0.041281,
     "end_time": "2020-10-19T23:27:35.129690",
     "exception": false,
     "start_time": "2020-10-19T23:27:35.088409",
     "status": "completed"
    },
    "tags": []
   },
   "outputs": [],
   "source": [
    "# import os\n",
    "# os.remove(\"./Flag_of_Afghanistan.svg\")  # file name"
   ]
  },
  {
   "cell_type": "markdown",
   "metadata": {
    "papermill": {
     "duration": 0.032923,
     "end_time": "2020-10-19T23:27:35.196899",
     "exception": false,
     "start_time": "2020-10-19T23:27:35.163976",
     "status": "completed"
    },
    "tags": []
   },
   "source": [
    "### Have a great day :)"
   ]
  },
  {
   "cell_type": "code",
   "execution_count": null,
   "metadata": {
    "papermill": {
     "duration": 0.03347,
     "end_time": "2020-10-19T23:27:35.264507",
     "exception": false,
     "start_time": "2020-10-19T23:27:35.231037",
     "status": "completed"
    },
    "tags": []
   },
   "outputs": [],
   "source": []
  }
 ],
 "metadata": {
  "kernelspec": {
   "display_name": "Python 3",
   "language": "python",
   "name": "python3"
  },
  "language_info": {
   "codemirror_mode": {
    "name": "ipython",
    "version": 3
   },
   "file_extension": ".py",
   "mimetype": "text/x-python",
   "name": "python",
   "nbconvert_exporter": "python",
   "pygments_lexer": "ipython3",
   "version": "3.7.6"
  },
  "papermill": {
   "duration": 34.755506,
   "end_time": "2020-10-19T23:27:35.406315",
   "environment_variables": {},
   "exception": null,
   "input_path": "__notebook__.ipynb",
   "output_path": "__notebook__.ipynb",
   "parameters": {},
   "start_time": "2020-10-19T23:27:00.650809",
   "version": "2.1.0"
  }
 },
 "nbformat": 4,
 "nbformat_minor": 4
}
